{
 "cells": [
  {
   "cell_type": "markdown",
   "metadata": {},
   "source": [
    "## Exercise in Photogrammetry I\n",
    "## **Ex.9 : Essential Projective Geometry**\n",
    "### Hand out: xx.xx.xxxx \n",
    "### Submission: xx.xx.xxxx \n",
    "### Points: 12"
   ]
  },
  {
   "cell_type": "markdown",
   "metadata": {},
   "source": [
    "## A. Homogenous coordinates"
   ]
  },
  {
   "cell_type": "markdown",
   "metadata": {},
   "source": [
    "In this task you need to find the intersection of two lines *$l_1$* and $l_2$. The line $l_1$ is defined by two points $x_1 = [98, 352]^T$ and $x_2 = [1548, 543]^T$. You can find the parameters of the line $l_2$ by computing the following $x_3$ and $x_4$ points.\n",
    "\n",
    "The point $x_3$ is the intersection of the lines $m_1$ and $m_2$. The lines $m_1$ and $m_2$ are determined through the *Hesse normal form* with $\\theta_1=35^{\\circ}$, $d_1=1210$ and $\\theta_2=138^{\\circ}$, $d_2=978$. The point $x4$ can be found as an intersection point of lines $m_3$ and $m_4$.\n",
    "\n",
    "The lines $m_3$and $m_4$ are given in the *intercept form*, where $x_0^3 = 1945$, $y_0^3 = 2761$ and $x_0^4 = -458$, $y_0^3 = 503$.\n",
    "\n",
    "**Hints**:\n",
    "- Hesse normal form: $cos(\\theta)\\cdot x + sin(\\theta)\\cdot y = d$ \n",
    "- Intercept form: $\\frac{x}{x_0} + \\frac{y}{y_0} = 1$\n",
    "\n",
    "**Task**:\n",
    "1. Find the intersection point $s$ of line $l_1$ and $l_2$ using **projective geometry** (homogenous coordinates). Print out the **euclidiean coordinates** of points $s$, $x_3$ and $x_4$. Finally, plot both lines l1 and l2 and verify your results.\n",
    "<br> *(4 points)*"
   ]
  },
  {
   "cell_type": "code",
   "execution_count": 1,
   "metadata": {},
   "outputs": [],
   "source": [
    "# import all required modules\n",
    "import numpy as np\n",
    "import matplotlib.pyplot as plt\n",
    "%matplotlib inline"
   ]
  },
  {
   "cell_type": "code",
   "execution_count": 2,
   "metadata": {},
   "outputs": [],
   "source": [
    "# compute the coordinates of x_3 by using homogenous coordinates\n",
    "m_1 = np.array([np.cos(np.deg2rad(35)), np.sin(np.deg2rad(35)), 1210])\n",
    "m_2 = np.array([np.cos(np.deg2rad(138)), np.sin(np.deg2rad(138)), 978])\n",
    "x_3_hc = np.cross(m_1, m_2)"
   ]
  },
  {
   "cell_type": "code",
   "execution_count": 3,
   "metadata": {},
   "outputs": [],
   "source": [
    "# compute the coordinates of x_4 by using homogenous coordinates\n",
    "m_3 = np.array([1 / 1945, 1 / 2761, -1])\n",
    "m_4 = np.array([1 / -458, 1 / 503, -1])\n",
    "x_4_hc = np.cross(m_3, m_4)"
   ]
  },
  {
   "cell_type": "code",
   "execution_count": 4,
   "metadata": {},
   "outputs": [],
   "source": [
    "# Given x_1 and x_2 compute the line l_1\n",
    "x_1 = np.array([98, 352, 1])\n",
    "x_2 = np.array([1548, 543, 1])\n",
    "l_1_hc = np.cross(x_1, x_2)"
   ]
  },
  {
   "cell_type": "code",
   "execution_count": 5,
   "metadata": {},
   "outputs": [],
   "source": [
    "# Given x_3 and x_4 compute the line l_2\n",
    "l_2_hc = np.cross(x_3_hc, x_4_hc)"
   ]
  },
  {
   "cell_type": "code",
   "execution_count": 6,
   "metadata": {},
   "outputs": [],
   "source": [
    "# Given l_1 and l_2 compute the intersection points s\n",
    "s_hc = np.cross(l_1_hc, l_2_hc)"
   ]
  },
  {
   "cell_type": "code",
   "execution_count": 7,
   "metadata": {},
   "outputs": [
    {
     "name": "stdout",
     "output_type": "stream",
     "text": [
      "s:(511.4445754497806, 406.46063028338494), x_3:(-255.23185484737812, -1745.0617579441528), x_4:(896.8180454265578, 1487.933355566722)\n"
     ]
    }
   ],
   "source": [
    "# print out the euclidean coordinates of s, x_3 and x_4\n",
    "s = (s_hc[0] / s_hc[2], s_hc[1] / s_hc[2])\n",
    "x_3 = (x_3_hc[0] / x_3_hc[2], x_3_hc[1] / x_3_hc[2])\n",
    "x_4 = (x_4_hc[0] / x_4_hc[2], x_4_hc[1] / x_4_hc[2])\n",
    "\n",
    "print(f's:{s}, x_3:{x_3}, x_4:{x_4}')"
   ]
  },
  {
   "cell_type": "code",
   "execution_count": 8,
   "metadata": {},
   "outputs": [
    {
     "data": {
      "image/png": "[encoded data removed]",
      "text/plain": [
       "<Figure size 640x480 with 1 Axes>"
      ]
     },
     "metadata": {},
     "output_type": "display_data"
    }
   ],
   "source": [
    "# finally, plot both lines l1 and l2 and verify your results\n",
    "plt.plot((x_1[0], x_2[0]), (x_1[1], x_2[1]), label='L1', color='blue')\n",
    "plt.plot((x_3[0], x_4[0]), (x_3[1], x_4[1]), label='L2', color='red')\n",
    "plt.scatter(s[0], s[1], label='intersection', color='black')\n",
    "\n",
    "plt.xlabel('X-axis')\n",
    "plt.ylabel('Y-axis')\n",
    "plt.title('Plotting L1 and L2')\n",
    "plt.legend()\n",
    "plt.grid(True)\n",
    "plt.show()"
   ]
  },
  {
   "cell_type": "markdown",
   "metadata": {},
   "source": [
    "## B. Projective Geometry"
   ]
  },
  {
   "cell_type": "markdown",
   "metadata": {},
   "source": [
    "You install a surveillance camera. This is a sensor width *principal point* $x_h = [400, 300]^T$ pel, *camera constant* $c = 550$ pel, *shear* $s = 0$ and *scale difference* $m = 0.0025$. You are also given the coordinates of two points in the world coordinate frame $X_1 = [1, 0, 2]$ m and $X_2 = [2, 3, 1]^T$ m.<br> *(8 points)*"
   ]
  },
  {
   "cell_type": "markdown",
   "metadata": {},
   "source": [
    "**Tasks**:\n",
    "1. Assuming the camera is located at the origin of the world with identical orientation, project the 3D points into the sensor coordinate system. Print out the *calibration matrix (K)*, *projection matrix (P)* and the *euclidean coordinates* of the sensor points. <br>*(5 points)*  \n",
    "2. Let's assume the camera has changed its location to $X_0 = [0.4, 0, 10]^T$ and is rotated by $4^\\circ$ around the Y-axis. Taking this transfomation into account, project again the given 3D points to the sensor coordinates and print out the *projection matrix (P)* and the *euclidean coordinates* of the sensor points.<br> *(3 points)*"
   ]
  },
  {
   "cell_type": "markdown",
   "metadata": {},
   "source": [
    "## B1"
   ]
  },
  {
   "cell_type": "code",
   "execution_count": 9,
   "metadata": {},
   "outputs": [
    {
     "name": "stdout",
     "output_type": "stream",
     "text": [
      "[[550.      0.    400.   ]\n",
      " [  0.    551.375 300.   ]\n",
      " [  0.      0.      1.   ]]\n"
     ]
    }
   ],
   "source": [
    "# setup the calibration matrix K and print out your result\n",
    "K = np.array([[550, 550 * 0, 400],\n",
    "            [0, 550 * (1 + 0.0025), 300],\n",
    "            [0, 0, 1]])\n",
    "\n",
    "print(K)"
   ]
  },
  {
   "cell_type": "code",
   "execution_count": 10,
   "metadata": {},
   "outputs": [
    {
     "name": "stdout",
     "output_type": "stream",
     "text": [
      "[[550.      0.    400.   ]\n",
      " [  0.    551.375 300.   ]\n",
      " [  0.      0.      1.   ]]\n"
     ]
    }
   ],
   "source": [
    "# setup the projection matrix P and print out your result\n",
    "R = np.array([[1, 0, 0],\n",
    "             [0, 1, 0],\n",
    "             [0, 0, 1]])\n",
    "\n",
    "P = np.dot(K, R)\n",
    "\n",
    "print(P)"
   ]
  },
  {
   "cell_type": "code",
   "execution_count": 11,
   "metadata": {},
   "outputs": [
    {
     "name": "stdout",
     "output_type": "stream",
     "text": [
      "[675. 300.   1.]\n",
      "[1500.    1954.125    1.   ]\n"
     ]
    }
   ],
   "source": [
    "# project the 3D points into the sensor coordinate system and print out the euclidean sensor coordinates\n",
    "X1 = np.array([1, 0, 2])\n",
    "X2 = np.array([2, 3, 1])\n",
    "\n",
    "X1_proj = np.dot(P, X1)\n",
    "X2_proj = np.dot(P, X2)\n",
    "\n",
    "X1_euclidean = X1_proj / X1_proj[2]\n",
    "X2_euclidean = X2_proj / X2_proj[2]\n",
    "\n",
    "np.set_printoptions(suppress=True)\n",
    "\n",
    "print(X1_euclidean)\n",
    "print(X2_euclidean)"
   ]
  },
  {
   "cell_type": "markdown",
   "metadata": {},
   "source": [
    "## B2"
   ]
  },
  {
   "cell_type": "code",
   "execution_count": 19,
   "metadata": {},
   "outputs": [
    {
     "name": "stdout",
     "output_type": "stream",
     "text": [
      "[[   59.56180392     0.         -4005.60262526]\n",
      " [  209.26942123     0.         -2992.69215078]\n",
      " [    0.69756474     0.            -9.9756405 ]]\n"
     ]
    }
   ],
   "source": [
    "# setup the projection matrix P and print out your result\n",
    "\n",
    "# Convert angle to radians.\n",
    "theta = np.radians(4)\n",
    "\n",
    "# Rotation matrix around Y-axis.\n",
    "R = np.array([[np.cos(theta), 0, np.sin(theta)],\n",
    "            [0, 1, 0],\n",
    "            [-np.sin(theta), 0, np.cos(theta)]])\n",
    "\n",
    "# Translation vector multiplied with 3x3 identity.\n",
    "T = np.array([[-0.4, 0, 0], \n",
    "              [0, 0, 0], \n",
    "              [0, 0, -10]])\n",
    "\n",
    "# Projection matrix.\n",
    "P = np.dot(K, np.dot(T, R))\n",
    "\n",
    "print(P)"
   ]
  },
  {
   "cell_type": "code",
   "execution_count": 20,
   "metadata": {},
   "outputs": [
    {
     "name": "stdout",
     "output_type": "stream",
     "text": [
      "[412.99265742 300.           1.        ]\n",
      "[452.94260503 300.           1.        ]\n"
     ]
    }
   ],
   "source": [
    "# project the 3D points into the sensor coordinate system and print out the euclidean sensor coordinates\n",
    "X1_proj = np.dot(P, X1)\n",
    "X2_proj = np.dot(P, X2)\n",
    "\n",
    "X1_euclidean = X1_proj / X1_proj[2]\n",
    "X2_euclidean = X2_proj / X2_proj[2]\n",
    "\n",
    "print(X1_euclidean)\n",
    "print(X2_euclidean)"
   ]
  },
  {
   "cell_type": "code",
   "execution_count": null,
   "metadata": {},
   "outputs": [],
   "source": []
  }
 ],
 "metadata": {
  "kernelspec": {
   "display_name": "Python 3 (ipykernel)",
   "language": "python",
   "name": "python3"
  },
  "language_info": {
   "codemirror_mode": {
    "name": "ipython",
    "version": 3
   },
   "file_extension": ".py",
   "mimetype": "text/x-python",
   "name": "python",
   "nbconvert_exporter": "python",
   "pygments_lexer": "ipython3",
   "version": "3.9.13"
  },
  "toc": {
   "base_numbering": 1,
   "nav_menu": {},
   "number_sections": false,
   "sideBar": true,
   "skip_h1_title": false,
   "title_cell": "Table of Contents",
   "title_sidebar": "Contents",
   "toc_cell": false,
   "toc_position": {},
   "toc_section_display": true,
   "toc_window_display": true
  }
 },
 "nbformat": 4,
 "nbformat_minor": 4
}
