{
 "cells": [
  {
   "cell_type": "markdown",
   "metadata": {},
   "source": [
    "# Exercise in Photogrammetry I\n",
    "## **Ex.1 : Essential Python Programming**\n",
    "### Hand out: xx.xx.xxxx\n",
    "### Submission: xx.xx.xxxx\n",
    "### Points: 23"
   ]
  },
  {
   "cell_type": "markdown",
   "metadata": {},
   "source": [
    "## A. Python Varialbes\n",
    "\n",
    "A variable is a container for a value, which can be of various types, e.g., int, float and str."
   ]
  },
  {
   "cell_type": "markdown",
   "metadata": {},
   "source": [
    "## A1 \n",
    "\n",
    "**Task**: Define two variables $x$ and $y$ and compute their divsion and sum. Let $x$ be equal to 10 and $y=3$. **Print out** the **type** of $x$, $y$, $\\frac{x}{y}$ and $x+y$ as well as the **result** of their divsion and sum. (2 Points)"
   ]
  },
  {
   "cell_type": "code",
   "execution_count": 1,
   "metadata": {},
   "outputs": [],
   "source": [
    "# Define the variables in this cell\n",
    "x = 10\n",
    "y = 3"
   ]
  },
  {
   "cell_type": "code",
   "execution_count": 2,
   "metadata": {},
   "outputs": [],
   "source": [
    "# Compute the divsion of both variables\n",
    "div = x / y"
   ]
  },
  {
   "cell_type": "code",
   "execution_count": 3,
   "metadata": {},
   "outputs": [],
   "source": [
    "# Compute the sum of both variables\n",
    "sum = x + y"
   ]
  },
  {
   "cell_type": "code",
   "execution_count": 4,
   "metadata": {},
   "outputs": [
    {
     "name": "stdout",
     "output_type": "stream",
     "text": [
      "x type: <class 'int'>\n",
      "y type: <class 'int'>\n",
      "x/y type: <class 'float'>\n",
      "x+y type: <class 'int'>\n"
     ]
    }
   ],
   "source": [
    "# Print out the data types in this cell\n",
    "print(f\"x type: {type(x)}\")\n",
    "print(f\"y type: {type(y)}\")\n",
    "print(f\"x/y type: {type(div)}\")\n",
    "print(f\"x+y type: {type(sum)}\")"
   ]
  },
  {
   "cell_type": "code",
   "execution_count": 5,
   "metadata": {},
   "outputs": [
    {
     "name": "stdout",
     "output_type": "stream",
     "text": [
      "div: 3.3333333333333335\n",
      "sum: 13\n"
     ]
    }
   ],
   "source": [
    "# Print out the result of the divison and sum in this cell\n",
    "print(f\"div: {div}\")\n",
    "print(f\"sum: {sum}\")"
   ]
  },
  {
   "cell_type": "markdown",
   "metadata": {},
   "source": [
    "## B. Python Lists, Tuples and Dictionaries\n",
    "\n",
    "A List is a collection which is *ordered* and *changeable*. It allows for *duplicate members*.\n",
    "\n",
    "A Tuple is a collection which is *ordered* and *unchangeable*. It allows for *duplicate members*.\n",
    "\n",
    "A Dictionary is a collection which is *unordered*, *changeable* and *indexed*. *No duplicate* keys allowed"
   ]
  },
  {
   "cell_type": "markdown",
   "metadata": {},
   "source": [
    "### B1\n",
    "\n",
    "**Task**: Create a list which contains the values 1 to 9. **Print out** the **length** of the list and compute the **sum** of the first and last entry by using *indexing*. (3 Points)"
   ]
  },
  {
   "cell_type": "code",
   "execution_count": 6,
   "metadata": {},
   "outputs": [
    {
     "data": {
      "text/plain": [
       "list"
      ]
     },
     "execution_count": 6,
     "metadata": {},
     "output_type": "execute_result"
    }
   ],
   "source": [
    "# Create your list here\n",
    "mylist = [1, 2, 3, 4, 5, 6, 7, 8, 9]\n",
    "mylist\n",
    "type(mylist)"
   ]
  },
  {
   "cell_type": "code",
   "execution_count": 7,
   "metadata": {},
   "outputs": [],
   "source": [
    "# Compute the length of the list\n",
    "mylist_length = len(mylist)"
   ]
  },
  {
   "cell_type": "code",
   "execution_count": 8,
   "metadata": {},
   "outputs": [],
   "source": [
    "# Compute the sum of the first and last entry by using indexing.\n",
    "firstlast_sum = mylist[0] + mylist[-1]"
   ]
  },
  {
   "cell_type": "code",
   "execution_count": 9,
   "metadata": {},
   "outputs": [
    {
     "name": "stdout",
     "output_type": "stream",
     "text": [
      "mylist length: 9\n"
     ]
    }
   ],
   "source": [
    "# Print out the length of the list this cell\n",
    "print(f\"mylist length: {mylist_length}\")"
   ]
  },
  {
   "cell_type": "code",
   "execution_count": 10,
   "metadata": {},
   "outputs": [
    {
     "name": "stdout",
     "output_type": "stream",
     "text": [
      "first + last sum: 10\n"
     ]
    }
   ],
   "source": [
    "# Print out the sum of first and last entry in this cell\n",
    "print(f\"first + last sum: {firstlast_sum}\")"
   ]
  },
  {
   "cell_type": "markdown",
   "metadata": {},
   "source": [
    "**Task**: Set the first entry of this list to 100 and append the value of 99 to the list. Again **print out** the **length** of this the and compute the **sum** of the first and last entry by using *indexing*. (2 Points)"
   ]
  },
  {
   "cell_type": "code",
   "execution_count": 11,
   "metadata": {},
   "outputs": [],
   "source": [
    "# Modify the elements of your list in this cell\n",
    "mylist[0] = 100\n",
    "mylist.append(99)"
   ]
  },
  {
   "cell_type": "code",
   "execution_count": 12,
   "metadata": {},
   "outputs": [],
   "source": [
    "# Compute the length of the list\n",
    "mylist_length = len(mylist)"
   ]
  },
  {
   "cell_type": "code",
   "execution_count": 13,
   "metadata": {},
   "outputs": [],
   "source": [
    "# # Compute the sum of the first and last entry by using indexing.\n",
    "firstlast_sum = mylist[0] + mylist[-1]"
   ]
  },
  {
   "cell_type": "code",
   "execution_count": 14,
   "metadata": {},
   "outputs": [
    {
     "name": "stdout",
     "output_type": "stream",
     "text": [
      "10\n"
     ]
    }
   ],
   "source": [
    "# Print out the length of the list this cell\n",
    "print(mylist_length)"
   ]
  },
  {
   "cell_type": "code",
   "execution_count": 15,
   "metadata": {},
   "outputs": [
    {
     "name": "stdout",
     "output_type": "stream",
     "text": [
      "199\n"
     ]
    }
   ],
   "source": [
    "# Print out the sum of first and last entry in this cell\n",
    "print(mylist[0] + mylist[-1])"
   ]
  },
  {
   "cell_type": "markdown",
   "metadata": {},
   "source": [
    "### B2\n",
    "\n",
    "**Task**: Create a tuple which contains the same values as the previously defined list. Try to change the second element of this tuple to 77 and run the script <br /> (*Cell* > *Run All*). Describe which error occurs and why. Make sure to comment this line of code afterwards otherwise cells below will not be executed! \n",
    "(2 Points)"
   ]
  },
  {
   "cell_type": "code",
   "execution_count": 18,
   "metadata": {},
   "outputs": [
    {
     "data": {
      "text/plain": [
       "(1, 2, 3, 4, 5, 6, 7, 8, 9)"
      ]
     },
     "execution_count": 18,
     "metadata": {},
     "output_type": "execute_result"
    }
   ],
   "source": [
    "# Create the tuple in this cell\n",
    "mytuple = (1, 2, 3, 4, 5, 6, 7, 8, 9)\n",
    "mytuple"
   ]
  },
  {
   "cell_type": "code",
   "execution_count": 20,
   "metadata": {},
   "outputs": [],
   "source": [
    "# Try to change the 2nd element of this tuple\n",
    "\n",
    "#mytuple[1] = 66\n",
    "\n",
    "# First execute the code (Cell > Run All) and inspect the error.\n",
    "# Afterwards make sure to comment all code within in this cell - otherwise cells below will not be executed!"
   ]
  },
  {
   "cell_type": "markdown",
   "metadata": {},
   "source": [
    "Write your **answer** about which error occurs and why **here**: tuples are unchangeable, that's why we receive an error saying, that a certain element cannot be changed.\n",
    "\n"
   ]
  },
  {
   "cell_type": "markdown",
   "metadata": {},
   "source": [
    "### B3\n",
    "\n",
    "**Task**: Create a dictionary which contains the following key-value pairs: *City* - *Bonn*, *Street* - *Nussallee*, *HouseNumber* - 15.<br /> Get the value of *HouseNumber* and **print it out**. (3 Points)"
   ]
  },
  {
   "cell_type": "code",
   "execution_count": 33,
   "metadata": {},
   "outputs": [],
   "source": [
    "# Create the dictionary here\n",
    "mydict = {\n",
    "    \"City\": \"Bonn\",\n",
    "    \"Street\": \"Nussallee\",\n",
    "    \"HouseNumber\": 15,\n",
    "}"
   ]
  },
  {
   "cell_type": "code",
   "execution_count": 38,
   "metadata": {},
   "outputs": [
    {
     "name": "stdout",
     "output_type": "stream",
     "text": [
      "15\n"
     ]
    }
   ],
   "source": [
    "# Get the value of 'HouseNumber' and print it in this cell\n",
    "print(f\"{mydict['HouseNumber']}\")"
   ]
  },
  {
   "cell_type": "markdown",
   "metadata": {},
   "source": [
    "**Task**: Add the key-value pair *LectureRoom* : *14* to this dictionary. Finally **print out** all **keys** and **values** of this dictionary. (2 Points)"
   ]
  },
  {
   "cell_type": "code",
   "execution_count": 42,
   "metadata": {},
   "outputs": [],
   "source": [
    "# Add key-value pair\n",
    "mydict['LectureRoom'] = 14"
   ]
  },
  {
   "cell_type": "code",
   "execution_count": 43,
   "metadata": {},
   "outputs": [
    {
     "name": "stdout",
     "output_type": "stream",
     "text": [
      "City\n",
      "Street\n",
      "HouseNumber\n",
      "LectureRoom\n"
     ]
    }
   ],
   "source": [
    "# Print out all keys of the dict\n",
    "for key in mydict:\n",
    "    print(f\"{key}\")"
   ]
  },
  {
   "cell_type": "code",
   "execution_count": 46,
   "metadata": {},
   "outputs": [
    {
     "name": "stdout",
     "output_type": "stream",
     "text": [
      "Bonn\n",
      "Nussallee\n",
      "15\n",
      "14\n"
     ]
    }
   ],
   "source": [
    "# Print out all values of the dict\n",
    "for value in mydict.values():\n",
    "    print(f\"{value}\")"
   ]
  },
  {
   "cell_type": "markdown",
   "metadata": {},
   "source": [
    "## C. Python Conditionals and Loops"
   ]
  },
  {
   "cell_type": "markdown",
   "metadata": {},
   "source": [
    "**Task**: You are given a list which contains multiple lists itself which we assign to the variable called *nested_list*.<br>\n",
    "**Print out** the length of *nested_list* and write a *for loop* which **prints** the **length** of each individual list within the *nested_list* (3 Points)"
   ]
  },
  {
   "cell_type": "markdown",
   "metadata": {},
   "source": [
    "**Hint**"
   ]
  },
  {
   "cell_type": "code",
   "execution_count": 47,
   "metadata": {},
   "outputs": [
    {
     "name": "stdout",
     "output_type": "stream",
     "text": [
      "0\n",
      "0\n"
     ]
    }
   ],
   "source": [
    "# Python is picky with tabs! All code you want to run within a loop or condition needs to be indented by 4 spaces.\n",
    "# In case the loop or condition in nested within another loop or condition it needs to be indented by \n",
    "# 8 spaces and so on.\n",
    "\n",
    "# Example\n",
    "for i in range(1):\n",
    "    print(i)             # -> 4 spaces before the print statement\n",
    "    for j in range(1):   # -> 4 spaces before for begins\n",
    "        print(j)         # -> 8 spaces before the print statement"
   ]
  },
  {
   "cell_type": "code",
   "execution_count": 67,
   "metadata": {},
   "outputs": [],
   "source": [
    "# You are a given a nested list\n",
    "nested_list = [[1,2,3,0],\n",
    "               [4,5,0,6, 5],\n",
    "               [7,0,9,0,10, -10]]"
   ]
  },
  {
   "cell_type": "code",
   "execution_count": 68,
   "metadata": {},
   "outputs": [
    {
     "name": "stdout",
     "output_type": "stream",
     "text": [
      "3\n"
     ]
    }
   ],
   "source": [
    "# Print out the length of nested_list in this cell\n",
    "print(f\"{len(nested_list)}\")"
   ]
  },
  {
   "cell_type": "code",
   "execution_count": 69,
   "metadata": {},
   "outputs": [
    {
     "name": "stdout",
     "output_type": "stream",
     "text": [
      "4\n",
      "5\n",
      "6\n"
     ]
    }
   ],
   "source": [
    "# Write the code to print the length of each individual list within the nested_list in this cell by using a loop\n",
    "for i in range(len(nested_list)):\n",
    "    print(f\"{len(nested_list[i])}\")"
   ]
  },
  {
   "cell_type": "markdown",
   "metadata": {},
   "source": [
    "**Task**: Sum up all entries in the nested list by using nested *for loops*. If a entry is equal to zero **print** the string *'Found zero element**. Finally **print out** the result of the **sum**. (3 Points)"
   ]
  },
  {
   "cell_type": "code",
   "execution_count": 70,
   "metadata": {},
   "outputs": [
    {
     "name": "stdout",
     "output_type": "stream",
     "text": [
      "Found zero element\n",
      "Found zero element\n",
      "Found zero element\n",
      "Found zero element\n"
     ]
    }
   ],
   "source": [
    "# Write the code to sum up all entries in nested_list in this cell\n",
    "sum = 0\n",
    "for i in range(len(nested_list)):\n",
    "    for n in range(len(nested_list[i])):\n",
    "        entry = nested_list[i][n]\n",
    "        if entry == 0:\n",
    "            print(f\"Found zero element\")\n",
    "        sum += entry"
   ]
  },
  {
   "cell_type": "code",
   "execution_count": 71,
   "metadata": {},
   "outputs": [
    {
     "name": "stdout",
     "output_type": "stream",
     "text": [
      "42\n"
     ]
    }
   ],
   "source": [
    "# Print out the result of the sum in this cell\n",
    "print(f\"{sum}\")"
   ]
  },
  {
   "cell_type": "markdown",
   "metadata": {},
   "source": [
    "## D. Python Functions\n"
   ]
  },
  {
   "cell_type": "markdown",
   "metadata": {},
   "source": [
    "**Task**: Write a function called *sum_nested_list* which takes as input parameter a nested list and returns the sum of all entries (2 Points)"
   ]
  },
  {
   "cell_type": "code",
   "execution_count": 79,
   "metadata": {},
   "outputs": [],
   "source": [
    "# Define your Function in this cell\n",
    "def sum_nested_list(in_nested_list):\n",
    "    sum = 0\n",
    "    for i in range(len(in_nested_list)):\n",
    "        for n in range(len(in_nested_list[i])):\n",
    "            entry = in_nested_list[i][n]\n",
    "            print(f\"{entry}\")\n",
    "            sum += entry\n",
    "    return sum"
   ]
  },
  {
   "cell_type": "markdown",
   "metadata": {},
   "source": [
    "**Task**: Pass the given variable *another_nested_list* to your function and **print out** the **result** (1 Point)"
   ]
  },
  {
   "cell_type": "code",
   "execution_count": 80,
   "metadata": {},
   "outputs": [],
   "source": [
    "# Given variable another_nested_list \n",
    "another_nested_list = [[22, -22, 33], [-33, 44, 55], [-55, -44, 1, -2]]"
   ]
  },
  {
   "cell_type": "code",
   "execution_count": 81,
   "metadata": {},
   "outputs": [
    {
     "name": "stdout",
     "output_type": "stream",
     "text": [
      "22\n",
      "-22\n",
      "33\n",
      "-33\n",
      "44\n",
      "55\n",
      "-55\n",
      "-44\n",
      "1\n",
      "-2\n"
     ]
    }
   ],
   "source": [
    "# Call your function here\n",
    "funsum = sum_nested_list(another_nested_list)"
   ]
  },
  {
   "cell_type": "code",
   "execution_count": 82,
   "metadata": {},
   "outputs": [
    {
     "name": "stdout",
     "output_type": "stream",
     "text": [
      "-1\n"
     ]
    }
   ],
   "source": [
    "# Print out the sum of all entries here\n",
    "print(f\"{funsum}\")"
   ]
  },
  {
   "cell_type": "code",
   "execution_count": null,
   "metadata": {},
   "outputs": [],
   "source": []
  }
 ],
 "metadata": {
  "kernelspec": {
   "display_name": "Python 3 (ipykernel)",
   "language": "python",
   "name": "python3"
  },
  "language_info": {
   "codemirror_mode": {
    "name": "ipython",
    "version": 3
   },
   "file_extension": ".py",
   "mimetype": "text/x-python",
   "name": "python",
   "nbconvert_exporter": "python",
   "pygments_lexer": "ipython3",
   "version": "3.9.13"
  },
  "toc": {
   "base_numbering": 1,
   "nav_menu": {},
   "number_sections": true,
   "sideBar": true,
   "skip_h1_title": false,
   "title_cell": "Table of Contents",
   "title_sidebar": "Contents",
   "toc_cell": false,
   "toc_position": {},
   "toc_section_display": true,
   "toc_window_display": false
  }
 },
 "nbformat": 4,
 "nbformat_minor": 4
}
