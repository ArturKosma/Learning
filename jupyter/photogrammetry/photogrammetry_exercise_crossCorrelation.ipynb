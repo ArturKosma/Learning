{
 "cells": [
  {
   "cell_type": "code",
   "execution_count": 1,
   "id": "f0b483ae-e7c3-44bb-9892-fef6ee4f6a27",
   "metadata": {},
   "outputs": [],
   "source": [
    "import numpy as np"
   ]
  },
  {
   "cell_type": "markdown",
   "id": "45bc5327-112e-48a4-81f4-3f4672593c2e",
   "metadata": {},
   "source": [
    "# Normalized Cross Correlation\n",
    "Create sample image, pick a template, find the best matching of that template in the image."
   ]
  },
  {
   "cell_type": "code",
   "execution_count": 71,
   "id": "c893911e-b61b-4b45-bf6a-695ed044fcd7",
   "metadata": {},
   "outputs": [
    {
     "name": "stdout",
     "output_type": "stream",
     "text": [
      "[[  0   0   0   0   0   0   0   0   0   0]\n",
      " [  0   0   0   0   0   0   0   0   0   0]\n",
      " [  0   0   0   0   0   0   0   0   0   0]\n",
      " [  0   0   0 244 213 222 245   0   0   0]\n",
      " [  0   0   0   0 210 202 166   0   0   0]\n",
      " [  0   0   0   0 110 112 189   0   0   0]\n",
      " [  0   0   0   0   0   0   0   0   0   0]\n",
      " [  0   0   0   0   0   0   0   0   0   0]\n",
      " [  0   0   0   0   0   0   0   0   0   0]\n",
      " [  0   0   0   0   0   0   0   0   0   0]]\n"
     ]
    }
   ],
   "source": [
    "# Sample image.\n",
    "sample_image = np.zeros((10, 10), dtype=np.uint8)\n",
    "sample_image[3, 3] = 244\n",
    "sample_image[3, 4] = 213\n",
    "sample_image[3, 5] = 222\n",
    "sample_image[3, 6] = 245\n",
    "sample_image[4, 4] = 210\n",
    "sample_image[4, 5] = 202\n",
    "sample_image[4, 6] = 166\n",
    "sample_image[5, 4] = 110\n",
    "sample_image[5, 5] = 112\n",
    "sample_image[5, 6] = 189\n",
    "print(sample_image)"
   ]
  },
  {
   "cell_type": "code",
   "execution_count": 72,
   "id": "396881e9-476c-493a-a85f-cafa46a97051",
   "metadata": {},
   "outputs": [
    {
     "name": "stdout",
     "output_type": "stream",
     "text": [
      "[[212 221]\n",
      " [209 204]]\n"
     ]
    }
   ],
   "source": [
    "# Template to match.\n",
    "template = np.array([[212, 221], [209, 204]])\n",
    "print(template)"
   ]
  },
  {
   "cell_type": "code",
   "execution_count": 73,
   "id": "d8db6709-b27f-43af-a1c0-bd0c348d080a",
   "metadata": {},
   "outputs": [],
   "source": [
    "import math\n",
    "\n",
    "def match_cross_correlation(image: np.ndarray, pattern: np.ndarray) -> np.ndarray:\n",
    "    '''\n",
    "    Performs normalized cross correlation. \n",
    "\n",
    "    Parameters:\n",
    "    - image (np.ndarray): Given 2D MxN image.\n",
    "    - pattern (np.ndarray): 2D pattern to match in the image.\n",
    "\n",
    "    Returns:\n",
    "    - np.ndarray: Map with shape of input image, with correlation values.\n",
    "    '''\n",
    "\n",
    "    # Allocate return map.\n",
    "    correlation_map = np.zeros(image.shape)\n",
    "\n",
    "    # Perform cross-correlation at every pixel, filling the correlation map with values.\n",
    "    # https://www.youtube.com/watch?v=5YAA7vS6kVU&t=1s 18:19.\n",
    "    # Cross Correlation Function.\n",
    "    for u in range(image.shape[0]):\n",
    "        for v in range(image.shape[1]):\n",
    "            correlation_map[u, v] = find_cross_correlation_value(image, pattern, u, v)\n",
    "\n",
    "    return correlation_map\n",
    "\n",
    "def find_cross_correlation_value(image: np.ndarray, pattern: np.ndarray, offset_u: int, offset_v: int) -> float:\n",
    "    '''\n",
    "    Calculates cross-corelation value at a given offset.\n",
    "\n",
    "    Parameters:\n",
    "    - image (np.ndarray): Given 2D MxN image.\n",
    "    - pattern (np.ndarray): 2D pattern to match in the image.\n",
    "    - offset_u (int): Row offset.\n",
    "    - offset_v (int): Column offset.\n",
    "\n",
    "    Returns:\n",
    "    - int: Cross correlation value at given offset.\n",
    "    '''\n",
    "    # Get the overlapping patch from original image.\n",
    "    # Do not go over image.\n",
    "    max_u = min(image.shape[0] - 1, offset_u + pattern.shape[0] - 1) + 1\n",
    "    max_v = min(image.shape[1] - 1, offset_v + pattern.shape[1] - 1) + 1\n",
    "    overlapping_patch = image[offset_u : max_u, offset_v : max_v]\n",
    "\n",
    "    # Covariance of g1 and g2 (numerator).\n",
    "    covariance = 0\n",
    "\n",
    "    # Find parameters independent of specific pixel.\n",
    "    pattern_mean = mean(pattern)\n",
    "    overlapping_patch_mean = mean(overlapping_patch)\n",
    "    \n",
    "    # Only the matching shape.\n",
    "    if overlapping_patch.shape == pattern.shape:    \n",
    "        for i in range(overlapping_patch.shape[0]):\n",
    "            for j in range(overlapping_patch.shape[1]):\n",
    "                covariance += (pattern[i, j] - pattern_mean) * (overlapping_patch[i, j] - mean(overlapping_patch))\n",
    "\n",
    "        covariance /= overlapping_patch.size - 1\n",
    "\n",
    "        # Calculate the denominator.\n",
    "    \n",
    "        # Standard deviation of the template.\n",
    "        pattern_standard_deviation = standard_deviation(pattern, pattern_mean)\n",
    "        overlapping_patch_standard_deviation = standard_deviation(overlapping_patch, overlapping_patch_mean)\n",
    "\n",
    "        # Normalized Cross Correlation.\n",
    "        # https://www.youtube.com/watch?v=5YAA7vS6kVU&t=1s 23:39\n",
    "\n",
    "        numerator = covariance\n",
    "        denominator = pattern_standard_deviation * overlapping_patch_standard_deviation\n",
    "\n",
    "        if numerator == 0.0 or denominator == 0.0:\n",
    "            return 0.0\n",
    "    \n",
    "        return covariance / denominator\n",
    "        \n",
    "    else:\n",
    "        return 0.0\n",
    "\n",
    "def mean(image : np.ndarray) -> float:\n",
    "    '''\n",
    "    Finds the mean intensity value of given image.\n",
    "\n",
    "    Parameters:\n",
    "    - image (np.ndarray): Given image.\n",
    "\n",
    "    Returns:\n",
    "    - float: Mean intensity value of a given image.\n",
    "    '''\n",
    "\n",
    "    mean = 0.0\n",
    "\n",
    "    for i in range(image.shape[0]):\n",
    "        for j in range(image.shape[1]):\n",
    "            mean += image[i, j]\n",
    "\n",
    "    return mean / image.size\n",
    "\n",
    "def standard_deviation(image: np.ndarray, mean: float) -> float:\n",
    "    '''\n",
    "    Calculates standard deviation of an image.\n",
    "\n",
    "    Parameters:\n",
    "    - image (np.ndarray): Given image.\n",
    "    - mean (float): Precalculated mean of that image.\n",
    "\n",
    "    Returns:\n",
    "    - float: Standard deviation.\n",
    "    '''\n",
    "\n",
    "    standard_dev = 0\n",
    "    \n",
    "    for i in range(image.shape[0]):\n",
    "        for j in range(image.shape[1]):\n",
    "            standard_dev += (image[i, j] - mean) ** 2\n",
    "\n",
    "    standard_dev /= image.size - 1\n",
    "\n",
    "    return math.sqrt(standard_dev)\n",
    "    "
   ]
  },
  {
   "cell_type": "code",
   "execution_count": 85,
   "id": "f383bf31-385e-47b1-aaf7-ae2615be2511",
   "metadata": {},
   "outputs": [
    {
     "name": "stdout",
     "output_type": "stream",
     "text": [
      "best match 0.9915610305527968 at (3, 4)\n",
      "[[ 0.     0.     0.     0.     0.     0.     0.     0.     0.     0.   ]\n",
      " [ 0.     0.     0.     0.     0.     0.     0.     0.     0.     0.   ]\n",
      " [ 0.     0.    -0.7   -0.777 -0.816 -0.826 -0.233  0.     0.     0.   ]\n",
      " [ 0.     0.     0.887  0.237  0.992  0.96  -0.111  0.     0.     0.   ]\n",
      " [ 0.     0.     0.     0.541  0.772 -0.023 -0.177  0.     0.     0.   ]\n",
      " [ 0.     0.     0.     0.887  0.815  0.935  0.047  0.     0.     0.   ]\n",
      " [ 0.     0.     0.     0.     0.     0.     0.     0.     0.     0.   ]\n",
      " [ 0.     0.     0.     0.     0.     0.     0.     0.     0.     0.   ]\n",
      " [ 0.     0.     0.     0.     0.     0.     0.     0.     0.     0.   ]\n",
      " [ 0.     0.     0.     0.     0.     0.     0.     0.     0.     0.   ]]\n",
      "[[213 222]\n",
      " [210 202]]\n"
     ]
    }
   ],
   "source": [
    "cross_correlation_mask = match_cross_correlation(sample_image, template)\n",
    "\n",
    "best_match = np.max(cross_correlation_mask)\n",
    "best_match_index = np.unravel_index(np.argmax(cross_correlation_mask), cross_correlation_mask.shape)\n",
    "print(f'best match {best_match} at {best_match_index}')\n",
    "np.set_printoptions(precision=3)\n",
    "print(cross_correlation_mask)\n",
    "print(sample_image[best_match_index[0]:best_match_index[0] + 2, best_match_index[1]:best_match_index[1] + 2])"
   ]
  },
  {
   "cell_type": "markdown",
   "id": "b3736960-227e-439b-89b5-37a1ba186be7",
   "metadata": {},
   "source": [
    "## We should work on normalized image and patterns."
   ]
  },
  {
   "cell_type": "code",
   "execution_count": 95,
   "id": "f30722c2-4b59-4d26-9acd-519c2a26333a",
   "metadata": {},
   "outputs": [
    {
     "name": "stdout",
     "output_type": "stream",
     "text": [
      "image mean: 19.13\n",
      "image std: 59.496482367795565\n",
      "pattern mean: 211.5\n",
      "pattern std: 7.14142842854285\n"
     ]
    }
   ],
   "source": [
    "image_sample_mean = mean(sample_image)\n",
    "image_sample_standard_deviation = standard_deviation(sample_image, image_sample_mean)\n",
    "pattern_mean = mean(template)\n",
    "pattern_standard_deviation = standard_deviation(template, pattern_mean)\n",
    "\n",
    "print(f'image mean: {image_sample_mean}')\n",
    "print(f'image std: {image_sample_standard_deviation}')\n",
    "print(f'pattern mean: {pattern_mean}')\n",
    "print(f'pattern std: {pattern_standard_deviation}')"
   ]
  },
  {
   "cell_type": "code",
   "execution_count": 97,
   "id": "0a0ba844-6f7b-494d-a209-8f8de4f0bbe3",
   "metadata": {},
   "outputs": [
    {
     "name": "stdout",
     "output_type": "stream",
     "text": [
      "[[-0.322 -0.322 -0.322 -0.322 -0.322 -0.322 -0.322 -0.322 -0.322 -0.322]\n",
      " [-0.322 -0.322 -0.322 -0.322 -0.322 -0.322 -0.322 -0.322 -0.322 -0.322]\n",
      " [-0.322 -0.322 -0.322 -0.322 -0.322 -0.322 -0.322 -0.322 -0.322 -0.322]\n",
      " [-0.322 -0.322 -0.322  3.78   3.259  3.41   3.796 -0.322 -0.322 -0.322]\n",
      " [-0.322 -0.322 -0.322 -0.322  3.208  3.074  2.469 -0.322 -0.322 -0.322]\n",
      " [-0.322 -0.322 -0.322 -0.322  1.527  1.561  2.855 -0.322 -0.322 -0.322]\n",
      " [-0.322 -0.322 -0.322 -0.322 -0.322 -0.322 -0.322 -0.322 -0.322 -0.322]\n",
      " [-0.322 -0.322 -0.322 -0.322 -0.322 -0.322 -0.322 -0.322 -0.322 -0.322]\n",
      " [-0.322 -0.322 -0.322 -0.322 -0.322 -0.322 -0.322 -0.322 -0.322 -0.322]\n",
      " [-0.322 -0.322 -0.322 -0.322 -0.322 -0.322 -0.322 -0.322 -0.322 -0.322]]\n",
      "[[ 0.07  1.33]\n",
      " [-0.35 -1.05]]\n"
     ]
    }
   ],
   "source": [
    "# Normalize image and pattern.\n",
    "sample_image_normalized = np.zeros(sample_image.shape, dtype=float)\n",
    "pattern_normalized = np.zeros(template.shape)\n",
    "\n",
    "for u in range(sample_image.shape[0]):\n",
    "    for v in range(sample_image.shape[1]):\n",
    "        sample_image_normalized[u, v] = (sample_image[u, v] - image_sample_mean) / image_sample_standard_deviation\n",
    "\n",
    "for u in range(template.shape[0]):\n",
    "    for v in range(template.shape[1]):\n",
    "        pattern_normalized[u, v] = (template[u, v] - pattern_mean) / pattern_standard_deviation\n",
    "\n",
    "print(sample_image_normalized)\n",
    "print(pattern_normalized)"
   ]
  },
  {
   "cell_type": "markdown",
   "id": "07827116-22e8-47a2-9164-400537055b71",
   "metadata": {},
   "source": [
    "## Or via numpy."
   ]
  },
  {
   "cell_type": "code",
   "execution_count": 98,
   "id": "b02b5aba-06d5-4d4a-a4d2-aa9d05e8a64e",
   "metadata": {},
   "outputs": [
    {
     "name": "stdout",
     "output_type": "stream",
     "text": [
      "[[-0.323 -0.323 -0.323 -0.323 -0.323 -0.323 -0.323 -0.323 -0.323 -0.323]\n",
      " [-0.323 -0.323 -0.323 -0.323 -0.323 -0.323 -0.323 -0.323 -0.323 -0.323]\n",
      " [-0.323 -0.323 -0.323 -0.323 -0.323 -0.323 -0.323 -0.323 -0.323 -0.323]\n",
      " [-0.323 -0.323 -0.323  3.799  3.275  3.427  3.815 -0.323 -0.323 -0.323]\n",
      " [-0.323 -0.323 -0.323 -0.323  3.224  3.089  2.481 -0.323 -0.323 -0.323]\n",
      " [-0.323 -0.323 -0.323 -0.323  1.535  1.569  2.87  -0.323 -0.323 -0.323]\n",
      " [-0.323 -0.323 -0.323 -0.323 -0.323 -0.323 -0.323 -0.323 -0.323 -0.323]\n",
      " [-0.323 -0.323 -0.323 -0.323 -0.323 -0.323 -0.323 -0.323 -0.323 -0.323]\n",
      " [-0.323 -0.323 -0.323 -0.323 -0.323 -0.323 -0.323 -0.323 -0.323 -0.323]\n",
      " [-0.323 -0.323 -0.323 -0.323 -0.323 -0.323 -0.323 -0.323 -0.323 -0.323]]\n",
      "[[ 0.081  1.536]\n",
      " [-0.404 -1.213]]\n"
     ]
    }
   ],
   "source": [
    "mean_value = np.mean(sample_image)\n",
    "std_dev_value = np.std(sample_image)\n",
    "mean_value_pattern = np.mean(template)\n",
    "std_dev_value_pattern = np.std(template)\n",
    "\n",
    "sample_image_normalized_np = (sample_image - mean_value) / std_dev_value\n",
    "pattern_normalized_np = (template - mean_value_pattern) / std_dev_value_pattern\n",
    "\n",
    "print(sample_image_normalized_np)\n",
    "print(pattern_normalized_np)"
   ]
  },
  {
   "cell_type": "markdown",
   "id": "3b6aeadc-6764-4c79-ba58-84581e33183b",
   "metadata": {},
   "source": [
    "## Try matching again."
   ]
  },
  {
   "cell_type": "code",
   "execution_count": 101,
   "id": "024f69c1-0114-4db9-bf27-915356146f5f",
   "metadata": {},
   "outputs": [
    {
     "name": "stdout",
     "output_type": "stream",
     "text": [
      "best match 0.9915610305527968 at (3, 4)\n",
      "[[ 0.     0.     0.     0.     0.     0.     0.     0.     0.     0.   ]\n",
      " [ 0.     0.     0.     0.     0.     0.     0.     0.     0.     0.   ]\n",
      " [ 0.     0.    -0.7   -0.777 -0.816 -0.826 -0.233  0.     0.     0.   ]\n",
      " [ 0.     0.     0.887  0.237  0.992  0.96  -0.111  0.     0.     0.   ]\n",
      " [ 0.     0.     0.     0.541  0.772 -0.023 -0.177  0.     0.     0.   ]\n",
      " [ 0.     0.     0.     0.887  0.815  0.935  0.047  0.     0.     0.   ]\n",
      " [ 0.     0.     0.     0.     0.     0.     0.     0.     0.     0.   ]\n",
      " [ 0.     0.     0.     0.     0.     0.     0.     0.     0.     0.   ]\n",
      " [ 0.     0.     0.     0.     0.     0.     0.     0.     0.     0.   ]\n",
      " [ 0.     0.     0.     0.     0.     0.     0.     0.     0.     0.   ]]\n",
      "[[3.275 3.427]\n",
      " [3.224 3.089]]\n"
     ]
    }
   ],
   "source": [
    "cross_correlation_mask_norm = match_cross_correlation(sample_image_normalized, pattern_normalized)\n",
    "\n",
    "best_match = np.max(cross_correlation_mask_norm)\n",
    "best_match_index = np.unravel_index(np.argmax(cross_correlation_mask_norm), cross_correlation_mask_norm.shape)\n",
    "print(f'best match {best_match} at {best_match_index}')\n",
    "np.set_printoptions(precision=3)\n",
    "print(cross_correlation_mask_norm)\n",
    "print(sample_image_normalized_np[best_match_index[0]:best_match_index[0] + 2, best_match_index[1]:best_match_index[1] + 2])"
   ]
  },
  {
   "cell_type": "markdown",
   "id": "67cc0adf-b3a1-402d-9378-baca65fa886c",
   "metadata": {},
   "source": [
    "## And via numpy also."
   ]
  },
  {
   "cell_type": "code",
   "execution_count": 103,
   "id": "54442ac6-f489-4e14-b5a6-6dae8379bdcd",
   "metadata": {},
   "outputs": [
    {
     "name": "stdout",
     "output_type": "stream",
     "text": [
      "best match 0.9915610305527973 at (3, 4)\n",
      "[[ 0.     0.     0.     0.     0.     0.     0.     0.     0.     0.   ]\n",
      " [ 0.     0.     0.     0.     0.     0.     0.     0.     0.     0.   ]\n",
      " [ 0.     0.    -0.7   -0.777 -0.816 -0.826 -0.233  0.     0.     0.   ]\n",
      " [ 0.     0.     0.887  0.237  0.992  0.96  -0.111  0.     0.     0.   ]\n",
      " [ 0.     0.     0.     0.541  0.772 -0.023 -0.177  0.     0.     0.   ]\n",
      " [ 0.     0.     0.     0.887  0.815  0.935  0.047  0.     0.     0.   ]\n",
      " [ 0.     0.     0.     0.     0.     0.     0.     0.     0.     0.   ]\n",
      " [ 0.     0.     0.     0.     0.     0.     0.     0.     0.     0.   ]\n",
      " [ 0.     0.     0.     0.     0.     0.     0.     0.     0.     0.   ]\n",
      " [ 0.     0.     0.     0.     0.     0.     0.     0.     0.     0.   ]]\n",
      "[[3.275 3.427]\n",
      " [3.224 3.089]]\n"
     ]
    }
   ],
   "source": [
    "cross_correlation_mask_norm_np = match_cross_correlation(sample_image_normalized_np, pattern_normalized_np)\n",
    "\n",
    "best_match = np.max(cross_correlation_mask_norm_np)\n",
    "best_match_index = np.unravel_index(np.argmax(cross_correlation_mask_norm_np), cross_correlation_mask_norm_np.shape)\n",
    "print(f'best match {best_match} at {best_match_index}')\n",
    "np.set_printoptions(precision=3)\n",
    "print(cross_correlation_mask_norm_np)\n",
    "print(sample_image_normalized_np[best_match_index[0]:best_match_index[0] + 2, best_match_index[1]:best_match_index[1] + 2])"
   ]
  },
  {
   "cell_type": "markdown",
   "id": "6a0e46c3-56e1-4958-ae30-50314dd27a4d",
   "metadata": {},
   "source": [
    "## Seems like my implementation of mean and std works correctly.\n",
    "Also it seems that normal distribution doesn't change anything in this case. It still works the same"
   ]
  },
  {
   "cell_type": "code",
   "execution_count": null,
   "id": "78d02b2f-ca56-472c-9a8f-a842fe0f4a4f",
   "metadata": {},
   "outputs": [],
   "source": []
  }
 ],
 "metadata": {
  "kernelspec": {
   "display_name": "Python 3 (ipykernel)",
   "language": "python",
   "name": "python3"
  },
  "language_info": {
   "codemirror_mode": {
    "name": "ipython",
    "version": 3
   },
   "file_extension": ".py",
   "mimetype": "text/x-python",
   "name": "python",
   "nbconvert_exporter": "python",
   "pygments_lexer": "ipython3",
   "version": "3.9.13"
  }
 },
 "nbformat": 4,
 "nbformat_minor": 5
}
