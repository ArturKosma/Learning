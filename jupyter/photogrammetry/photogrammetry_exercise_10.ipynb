{
 "cells": [
  {
   "cell_type": "markdown",
   "metadata": {},
   "source": [
    "## Exercise in Photogrammetry II\n",
    "# Ex. 01 Relative Orientation\n",
    "### Submission: xx.xx.xxxx \n",
    "### Points: 24"
   ]
  },
  {
   "cell_type": "markdown",
   "metadata": {},
   "source": [
    "## A Fundamental matrix basics\n",
    "\n",
    "In the lecture, you were introduced to the concept of the fundamental matrix. Complete the exercise below to strengthen your understanding.\n",
    "\n",
    "**DATA:** Extract the data from the provided zip file with the password: photo\n",
    "\n",
    "**Tasks:**\n",
    "\n",
    "1.  You are given the position and orientation of two *ideal* cameras in world coordinate frame $(c=1)$. Position of camera $C_1$ is $X_0^1=[0,0,0]^T$ and of camera $C_2$ is $X_0^2=[2,5,0]^T$. The cameras viewing directions are along z-axis. The orientation of the $C_1$ and $C_2$ are provided as ```R_1``` and ```R_2```. Construct the fundamental matrix F_12. (2 Points)\n"
   ]
  },
  {
   "cell_type": "code",
   "execution_count": 1,
   "metadata": {},
   "outputs": [
    {
     "name": "stdout",
     "output_type": "stream",
     "text": [
      "R_1: [[1. 0. 0.]\n",
      " [0. 1. 0.]\n",
      " [0. 0. 1.]]\n",
      "R_2: [[ 0.70710678 -0.70710678  0.        ]\n",
      " [ 0.70710678  0.70710678  0.        ]\n",
      " [ 0.          0.          1.        ]]\n",
      "X_1: [0 0 0]\n",
      "X_2: [2 5 0]\n"
     ]
    }
   ],
   "source": [
    "import numpy as np \n",
    "%matplotlib notebook\n",
    "R_1 = np.eye(3)\n",
    "R_2 = np.array([[np.sqrt(0.5),-np.sqrt(0.5),0],[np.sqrt(0.5),np.sqrt(0.5),0],[0,0,1]])\n",
    "X_1 = np.array([0, 0, 0])\n",
    "X_2 = np.array([2, 5, 0])\n",
    "\n",
    "print('R_1:',R_1)\n",
    "print('R_2:',R_2)\n",
    "print('X_1:',X_1)\n",
    "print('X_2:',X_2)"
   ]
  },
  {
   "cell_type": "markdown",
   "metadata": {},
   "source": [
    "### Fundamental Matrix $F$ From the Camera Projection Matrices\n",
    "\n",
    "$F = A'^{-T}S_{b'_{12}}A''^{-1}$\n",
    "\n",
    "where\n",
    "\n",
    "$A'$ and $A''$ - projection matrices for two given cameras,  \n",
    "\n",
    "$A = KR$  \n",
    "$K$ - calibration matrix of a given camera,  \n",
    "$R$ - rotation matrix of a given camera,  \n",
    "\n",
    "$S_{b'_{12}}$ - skew-symmetric matrix made out of vector $b$ going from the first camera to the second,  \n",
    "\n",
    "$$S_b = \\begin{bmatrix} 0 & -b_3 & b_2 \\\\ b_3 & 0 & -b_1 \\\\ -b_2 & b_1 & 0 \\end{bmatrix}$$  \n",
    "\n",
    "where\n",
    "\n",
    "$b'_{12} = X_{O''}-X_{O'}$  \n",
    "$X_{O'}$ and $X_{O''}$ - projection centers of the cameras"
   ]
  },
  {
   "cell_type": "markdown",
   "metadata": {},
   "source": [
    "### Let's construct the most typical calibration matrix $K$ for *ideal* camera\n",
    "\n",
    "$$K = \\begin{bmatrix} f_x & s & c_x \\\\ 0 & f_y & c_y \\\\ 0 & 0 & 1 \\end{bmatrix}$$ \n",
    "$$K = \\begin{bmatrix} 1000 & 0 & 640 \\\\ 0 & 1000 & 360 \\\\ 0 & 0 & 1 \\end{bmatrix}$$  \n",
    "\n",
    "That would be a camera where:  \n",
    "\n",
    "$f_x = f_y = 1000$ pixels (typical focal length)  \n",
    "$c_x = 640$ pixels (assuming image width is 1280 pixels, principal point centered)  \n",
    "$c_y = 360$ pixels (assuming image height is 720 pixels, principal point centered)  \n",
    "$s = 0$ (assuming no skew)"
   ]
  },
  {
   "cell_type": "code",
   "execution_count": 2,
   "metadata": {},
   "outputs": [
    {
     "name": "stdout",
     "output_type": "stream",
     "text": [
      "[[1000    0  640]\n",
      " [   0 1000  360]\n",
      " [   0    0    1]]\n"
     ]
    }
   ],
   "source": [
    "K = np.array([[1000, 0, 640],\n",
    "             [0, 1000, 360],\n",
    "             [0, 0, 1]])\n",
    "print(K)"
   ]
  },
  {
   "cell_type": "markdown",
   "metadata": {},
   "source": [
    "### Find the projection matrices $A'$ and $A''$"
   ]
  },
  {
   "cell_type": "code",
   "execution_count": 3,
   "metadata": {},
   "outputs": [],
   "source": [
    "A_p = K @ R_1\n",
    "A_pp = K @ R_2"
   ]
  },
  {
   "cell_type": "markdown",
   "metadata": {},
   "source": [
    "### Find $A'^{-T}$ and $A''^{-1}$"
   ]
  },
  {
   "cell_type": "code",
   "execution_count": 4,
   "metadata": {},
   "outputs": [],
   "source": [
    "A_p_minT = np.transpose(np.linalg.inv(A_p))\n",
    "A_pp_min = np.linalg.inv(A_pp)"
   ]
  },
  {
   "cell_type": "markdown",
   "metadata": {},
   "source": [
    "### Find baseline vector $b'_{12}$"
   ]
  },
  {
   "cell_type": "code",
   "execution_count": 5,
   "metadata": {},
   "outputs": [],
   "source": [
    "b_12 = X_2 - X_1"
   ]
  },
  {
   "cell_type": "markdown",
   "metadata": {},
   "source": [
    "### Construct the skew-symmetric matrix $S_{b'_{12}}$"
   ]
  },
  {
   "cell_type": "code",
   "execution_count": 6,
   "metadata": {},
   "outputs": [],
   "source": [
    "S_b12 = np.array([[0, -b_12[2], b_12[1]], [b_12[2], 0, -b_12[0]], [-b_12[1], b_12[0], 0]])"
   ]
  },
  {
   "cell_type": "markdown",
   "metadata": {},
   "source": [
    "### Calculate the fundamental matrix $F$"
   ]
  },
  {
   "cell_type": "code",
   "execution_count": 7,
   "metadata": {},
   "outputs": [
    {
     "name": "stdout",
     "output_type": "stream",
     "text": [
      "[[ 0.          0.          0.005     ]\n",
      " [ 0.          0.         -0.002     ]\n",
      " [-0.00494975 -0.00212132  1.4515137 ]]\n"
     ]
    }
   ],
   "source": [
    "F = A_p_minT @ S_b12 @ A_pp_min\n",
    "print(F)"
   ]
  },
  {
   "cell_type": "markdown",
   "metadata": {},
   "source": [
    "### Confirm the correctness:\n",
    "\n",
    "### 1. Rank should be 2"
   ]
  },
  {
   "cell_type": "code",
   "execution_count": 8,
   "metadata": {},
   "outputs": [
    {
     "name": "stdout",
     "output_type": "stream",
     "text": [
      "2\n"
     ]
    }
   ],
   "source": [
    "rank = np.linalg.matrix_rank(F)\n",
    "print(rank)"
   ]
  },
  {
   "cell_type": "markdown",
   "metadata": {},
   "source": [
    "### 2. Epipolar constraint $x'^TFx''$ should be close to zero"
   ]
  },
  {
   "cell_type": "code",
   "execution_count": 9,
   "metadata": {},
   "outputs": [
    {
     "name": "stdout",
     "output_type": "stream",
     "text": [
      "-0.25066173346203346\n"
     ]
    }
   ],
   "source": [
    "# We are given few correspondences points in data/correspondences.txt.\n",
    "c_11 = np.array([8.870000000000000000e+02, 4.420000000000000000e+02, 1]).T\n",
    "c_12 = np.array([9.059897739504848460e+02, 3.623945102260494764e+02, 1])\n",
    "\n",
    "epipolar = c_11 @ F @ c_12\n",
    "print(epipolar)"
   ]
  },
  {
   "cell_type": "markdown",
   "metadata": {},
   "source": [
    "It doesn't seem close to zero, but maybe it's because I came up with arbitrary calibration that is probably different from the calibration of the camera that was used to find those correspondeces? Also noone said that the given translations are real translations used for the photoshoot.\n",
    "\n",
    "### 3. Determinant should be close to zero"
   ]
  },
  {
   "cell_type": "code",
   "execution_count": 10,
   "metadata": {},
   "outputs": [
    {
     "name": "stdout",
     "output_type": "stream",
     "text": [
      "0.0\n"
     ]
    }
   ],
   "source": [
    "det = np.linalg.det(F)\n",
    "print(det)"
   ]
  },
  {
   "cell_type": "markdown",
   "metadata": {},
   "source": [
    "### 4. Symmetry $F + F^T$ should be close to zero "
   ]
  },
  {
   "cell_type": "code",
   "execution_count": 11,
   "metadata": {},
   "outputs": [
    {
     "name": "stdout",
     "output_type": "stream",
     "text": [
      "[[ 0.00000000e+00  0.00000000e+00  5.02525317e-05]\n",
      " [ 0.00000000e+00  0.00000000e+00 -4.12132034e-03]\n",
      " [ 5.02525317e-05 -4.12132034e-03  2.90302741e+00]]\n"
     ]
    }
   ],
   "source": [
    "symmetry = F + F.T\n",
    "print(symmetry)"
   ]
  },
  {
   "cell_type": "markdown",
   "metadata": {},
   "source": [
    "### Let's try OpenCV"
   ]
  },
  {
   "cell_type": "code",
   "execution_count": 12,
   "metadata": {},
   "outputs": [
    {
     "name": "stdout",
     "output_type": "stream",
     "text": [
      "[[ 1.33978997e-06 -4.96733457e-06  1.04845799e-03]\n",
      " [ 9.01402658e-06 -1.68452455e-06 -6.17252080e-03]\n",
      " [-3.52726162e-03  4.05515313e-03  1.00000000e+00]]\n",
      "2\n",
      "0.29540314778438403\n",
      "-6.637810809272559e-27\n",
      "[[ 2.67957995e-06  4.04669201e-06 -2.47880363e-03]\n",
      " [ 4.04669201e-06 -3.36904911e-06 -2.11736767e-03]\n",
      " [-2.47880363e-03 -2.11736767e-03  2.00000000e+00]]\n"
     ]
    }
   ],
   "source": [
    "import cv2\n",
    "\n",
    "c1 = np.array([[3.870000000000000000e+02, 5.530000000000000000e+02], [3.230000000000000000e+02, 2.740000000000000000e+02],\n",
    "              [4.630000000000000000e+02, 2.380000000000000000e+02], [6.760000000000000000e+02, 4.930000000000000568e+02],\n",
    "              [5.470000000000000000e+02, 1.710000000000000000e+02], [7.400000000000000000e+02, 5.160000000000000000e+02],\n",
    "              [7.630000000000000000e+02, 4.760000000000000000e+02]])\n",
    "c2 = np.array([[1.539999999999998010e+02, 4.689999999999998863e+02], [2.459999999999998010e+02, 2.689999999999998863e+02],\n",
    "              [3.879999999999998863e+02, 2.169999999999998579e+02], [4.759999999999998295e+02, 4.169999999999998863e+02],\n",
    "              [4.904892357373520326e+02, 1.445258342303551444e+02], [6.110489773950486097e+02, 4.377443487621097802e+02],\n",
    "              [6.803708288482239368e+02, 4.045904198062432329e+02]])\n",
    "\n",
    "F, mask = cv2.findFundamentalMat(c1, c2, cv2.FM_RANSAC)\n",
    "rank = np.linalg.matrix_rank(F)\n",
    "epipolar = c_11 @ F @ c_12\n",
    "det = np.linalg.det(F)\n",
    "symmetry = F + F.T\n",
    "\n",
    "print(F)\n",
    "print(rank)\n",
    "print(epipolar)\n",
    "print(det)\n",
    "print(symmetry)"
   ]
  },
  {
   "cell_type": "markdown",
   "metadata": {},
   "source": [
    "### The OpenCV algorithm for finding fundamental matrix is giving me similar epipolar offset from 0, and has similar symmetry values."
   ]
  },
  {
   "cell_type": "markdown",
   "metadata": {},
   "source": [
    "2. The bilinear form $x'^TFx'' = 0$ encodes the coplanarity constraint and can be simplified to a matrix multiplication using Kronecker product $\\otimes$. Show that $x'^TFx'' = 0$, $F\\in \\mathbb{R}^{3\\times3}$ is equivalent to $(x''\\otimes x')^Tf$, where $f \\in \\mathbb{R}^{9\\times1}$. You can either use markdown or plot an image of some handwritten notes for example. (4 Points)"
   ]
  },
  {
   "cell_type": "markdown",
   "metadata": {},
   "source": [
    "## B Epipolar geometry\n",
    "\n",
    "You are given a fundamental matrix $F_{12}$ between the images $I_1$ and $I_2$ originated from camera $C_1$ and $C_2$ respectively.\n",
    "\n",
    "4. How to estimate fo a given point e'' in $I_2$ if it is the epipole of the camera $C_1$? (1 Point)\n",
    "5. Similarly, how to check if e' is an epipole in $I_1$? (1 Point)\n",
    "6. Estimate the image coordinates of both epipoles e' and e''. (4 Points) \n",
    "\n",
    "The fundamental matrix $F_{12}$ consists of the following values:"
   ]
  },
  {
   "cell_type": "code",
   "execution_count": 13,
   "metadata": {},
   "outputs": [],
   "source": [
    "F_12 = np.array([[-2,-4,12],\n",
    "                [6,-2,-8],\n",
    "                [8,-4,-8]])"
   ]
  },
  {
   "cell_type": "markdown",
   "metadata": {},
   "source": [
    "## C Seeing epipolar lines\n",
    "In this exercise you will learn to visualize the epipolar lines.\n",
    "\n",
    "7. Use the image point correspondences from the exercise A and the fundamental matrix to write a code that visualizes for every image point from image $I_1$ the corresponding epipolar lines on the image $I_2$. Plot also the correspondend points in $I_2$ (8 Points)"
   ]
  },
  {
   "cell_type": "markdown",
   "metadata": {},
   "source": [
    "## D Epipolar geometry for the normal case\n",
    "\n",
    "In the lecture you were introduced to the epipolar geometry for the general case. In this exercise your task is to adapt the general formulation to the stereo normal case.\n",
    "\n",
    "8. Draw the epipolar geometry with all the neccessary variables. You can draw it by hand or your prefered tools. (4 Points)\n",
    "\n"
   ]
  }
 ],
 "metadata": {
  "kernelspec": {
   "display_name": "Python 3 (ipykernel)",
   "language": "python",
   "name": "python3"
  },
  "language_info": {
   "codemirror_mode": {
    "name": "ipython",
    "version": 3
   },
   "file_extension": ".py",
   "mimetype": "text/x-python",
   "name": "python",
   "nbconvert_exporter": "python",
   "pygments_lexer": "ipython3",
   "version": "3.9.13"
  }
 },
 "nbformat": 4,
 "nbformat_minor": 4
}
