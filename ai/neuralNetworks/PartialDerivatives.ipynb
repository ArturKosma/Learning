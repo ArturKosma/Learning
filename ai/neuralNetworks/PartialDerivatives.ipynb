{
 "cells": [
  {
   "cell_type": "code",
   "execution_count": 3,
   "id": "d398e3a5",
   "metadata": {},
   "outputs": [],
   "source": [
    "# Sympy is a math library used to calculate derivates for example.\n",
    "\n",
    "import sympy"
   ]
  },
  {
   "cell_type": "code",
   "execution_count": 4,
   "id": "97c77176",
   "metadata": {},
   "outputs": [],
   "source": [
    "# We create empty symbols, they don't mean anything yet.\n",
    "\n",
    "J, w = sympy.symbols('J,w')"
   ]
  },
  {
   "cell_type": "code",
   "execution_count": 7,
   "id": "05c1bc02",
   "metadata": {},
   "outputs": [
    {
     "data": {
      "text/latex": [
       "$\\displaystyle w^{2}$"
      ],
      "text/plain": [
       "w**2"
      ]
     },
     "execution_count": 7,
     "metadata": {},
     "output_type": "execute_result"
    }
   ],
   "source": [
    "# Here I create a meaning for J, I specify that J is equal to w ** 2, which can be interpreted as J(w) = w ** 2.\n",
    "\n",
    "J = w ** 2\n",
    "J"
   ]
  },
  {
   "cell_type": "code",
   "execution_count": 9,
   "id": "0f53f702",
   "metadata": {},
   "outputs": [
    {
     "data": {
      "text/latex": [
       "$\\displaystyle 2 w$"
      ],
      "text/plain": [
       "2*w"
      ]
     },
     "execution_count": 9,
     "metadata": {},
     "output_type": "execute_result"
    }
   ],
   "source": [
    "# This function is calculating the derivative of 'J' with respect to 'w'.\n",
    "\n",
    "dJ_dw = sympy.diff(J,w)\n",
    "dJ_dw"
   ]
  },
  {
   "cell_type": "code",
   "execution_count": 11,
   "id": "10edd232",
   "metadata": {},
   "outputs": [
    {
     "data": {
      "text/latex": [
       "$\\displaystyle 4$"
      ],
      "text/plain": [
       "4"
      ]
     },
     "execution_count": 11,
     "metadata": {},
     "output_type": "execute_result"
    }
   ],
   "source": [
    "# This function substitutes the variable 'w' with a number 2, so it returns a derivative of 'J' with respect to 'w',\n",
    "# where w is equal to 2.\n",
    "\n",
    "dJ_dw.subs([(w,2)])"
   ]
  },
  {
   "cell_type": "code",
   "execution_count": 12,
   "id": "ac99fac5",
   "metadata": {},
   "outputs": [
    {
     "data": {
      "text/latex": [
       "$\\displaystyle 6$"
      ],
      "text/plain": [
       "6"
      ]
     },
     "execution_count": 12,
     "metadata": {},
     "output_type": "execute_result"
    }
   ],
   "source": [
    "dJ_dw.subs([(w,3)])"
   ]
  },
  {
   "cell_type": "code",
   "execution_count": 13,
   "id": "43fad5b3",
   "metadata": {},
   "outputs": [
    {
     "data": {
      "text/latex": [
       "$\\displaystyle w^{3}$"
      ],
      "text/plain": [
       "w**3"
      ]
     },
     "execution_count": 13,
     "metadata": {},
     "output_type": "execute_result"
    }
   ],
   "source": [
    "J = w ** 3\n",
    "J"
   ]
  },
  {
   "cell_type": "code",
   "execution_count": 14,
   "id": "5df0e080",
   "metadata": {},
   "outputs": [
    {
     "data": {
      "text/latex": [
       "$\\displaystyle 3 w^{2}$"
      ],
      "text/plain": [
       "3*w**2"
      ]
     },
     "execution_count": 14,
     "metadata": {},
     "output_type": "execute_result"
    }
   ],
   "source": [
    "dJ_dw = sympy.diff(J,w)\n",
    "dJ_dw"
   ]
  },
  {
   "cell_type": "code",
   "execution_count": 15,
   "id": "9d97a106",
   "metadata": {},
   "outputs": [
    {
     "data": {
      "text/latex": [
       "$\\displaystyle 27$"
      ],
      "text/plain": [
       "27"
      ]
     },
     "execution_count": 15,
     "metadata": {},
     "output_type": "execute_result"
    }
   ],
   "source": [
    "dJ_dw.subs([(w,3)])"
   ]
  },
  {
   "cell_type": "code",
   "execution_count": null,
   "id": "e92007b6",
   "metadata": {},
   "outputs": [],
   "source": []
  }
 ],
 "metadata": {
  "kernelspec": {
   "display_name": "Python 3 (ipykernel)",
   "language": "python",
   "name": "python3"
  },
  "language_info": {
   "codemirror_mode": {
    "name": "ipython",
    "version": 3
   },
   "file_extension": ".py",
   "mimetype": "text/x-python",
   "name": "python",
   "nbconvert_exporter": "python",
   "pygments_lexer": "ipython3",
   "version": "3.9.13"
  }
 },
 "nbformat": 4,
 "nbformat_minor": 5
}
