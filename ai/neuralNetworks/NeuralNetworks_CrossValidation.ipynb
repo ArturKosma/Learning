{
 "cells": [
  {
   "cell_type": "code",
   "execution_count": 1,
   "id": "7b6b0e68",
   "metadata": {},
   "outputs": [],
   "source": [
    "import numpy as np\n",
    "import matplotlib.pyplot as plt\n",
    "import tensorflow as tf\n",
    "from tensorflow.keras.models import Sequential\n",
    "from tensorflow.keras.layers import Dense\n",
    "from tensorflow.keras import regularizers\n",
    "from sklearn.preprocessing import StandardScaler"
   ]
  },
  {
   "cell_type": "code",
   "execution_count": 2,
   "id": "34f3299f",
   "metadata": {},
   "outputs": [],
   "source": [
    "# Create our data.\n",
    "\n",
    "X_train = np.array([[0, 0],  # Class 1.\n",
    "                   [0, 10],  # Class 2.\n",
    "                   [10, 10], # Class 3.\n",
    "                   [10, 0],  # Class 4.\n",
    "                   [0, 1],   # etc. basically in corners.\n",
    "                   [1, 1],\n",
    "                   [0.5, 0.9],\n",
    "                   [3.1, 3.7],\n",
    "                   [3, 2],\n",
    "                   [1, 7],\n",
    "                   [2, 9],\n",
    "                   [2.5, 8.6],\n",
    "                   [3.5, 7.9],\n",
    "                   [9, 9],\n",
    "                   [8, 9],\n",
    "                   [8.5, 8.5],\n",
    "                   [7.9, 9.3],\n",
    "                   [9, 1],\n",
    "                   [8.5, 2],\n",
    "                   [7.9, 3],\n",
    "                   [7.5, 1.9],\n",
    "                   [1.5, 0.4],\n",
    "                   [0.3, 9.5], \n",
    "                   [9.9, 8.9],\n",
    "                   [9.3, 0.7],\n",
    "                   [0.1, 1.9],\n",
    "                   [2.2, 1.9],\n",
    "                   [0.6, 0.2],\n",
    "                   [3.3, 3.9],\n",
    "                   [3.5, 2.1],\n",
    "                   [1.9, 7.9],\n",
    "                   [2.3, 9.7],\n",
    "                   [2.1, 8.2],\n",
    "                   [4.5, 8.1],\n",
    "                   [9.1, 9.3],\n",
    "                   [7.8, 8.8],\n",
    "                   [8.1, 8.1],\n",
    "                   [8.5, 7.9],\n",
    "                   [8.6, 1.3],\n",
    "                   [8.1, 2.1],\n",
    "                   [8.0, 3.4],\n",
    "                   [7.8, 2.0],\n",
    "                   [6.0, 3.0],\n",
    "                   [7.0, 6.0],\n",
    "                   [8.0, 6.5],\n",
    "                   [5.0, 6.0],\n",
    "                   [7.0, 4.2],\n",
    "                   [4.1, 5.0],\n",
    "                   [5.0, 3.0],\n",
    "                   [6.0, 4.2],\n",
    "                   [5.0, 4.0],\n",
    "                   [6.0, 4.8],\n",
    "                   [6.2, 6.1],\n",
    "                   [1.8, 3.0], #\n",
    "                   [0.3, 4.0],\n",
    "                   [2.1, 4.8],\n",
    "                   [2.0, 6.0],\n",
    "                   [5.0, 9.0],\n",
    "                   [6.1, 8.0],\n",
    "                   [7.2, 9.1],\n",
    "                   [6.2, 7.8], #\n",
    "                   [3.0, 0.5],\n",
    "                   [2.2, 0.2],\n",
    "                   [5.0, 2.0],\n",
    "                   [7.0, 1.0],\n",
    "                   [4.5, 1.0],\n",
    "                   [4.0, 1.0],\n",
    "                   [8.0, 1.5],\n",
    "                   [6.0, 1.0],\n",
    "                   [4.5, 0.0],\n",
    "                   [9.0, 4.1],\n",
    "                   [9.8, 6.1],\n",
    "                   [8.5, 5.0]]) \n",
    "\n",
    "y_train = np.array([0, 1, 2, 3, 0, 0, 0, 0, 0, 1, 1, 1, 1, 2, 2, 2, 2, 3, 3, 3, 3,\n",
    "                   0, 1, 2, 3, 0, 0, 0, 0, 0, 1, 1, 1, 1, 2, 2, 2, 2, 3, 3, 3, 3,\n",
    "                   0, 0, 0, 0, 0, 0, 0, 0, 0, 0, 0,\n",
    "                   1, 1, 1, 1, 1, 1, 1, 1,\n",
    "                   3, 3, 3, 3, 3, 3, 3, 3, 3, 3, 3, 3])"
   ]
  },
  {
   "cell_type": "code",
   "execution_count": 3,
   "id": "ffc92dbd",
   "metadata": {},
   "outputs": [
    {
     "name": "stdout",
     "output_type": "stream",
     "text": [
      "shape of X_train: (73, 2), shape of y_train: (73,)\n"
     ]
    }
   ],
   "source": [
    "print(f\"shape of X_train: {X_train.shape}, shape of y_train: {y_train.shape}\")"
   ]
  },
  {
   "cell_type": "code",
   "execution_count": 4,
   "id": "cd4f1829",
   "metadata": {},
   "outputs": [],
   "source": [
    "# Combine X_train and y_train into a single array.\n",
    "combined = np.column_stack((X_train, y_train))\n",
    "\n",
    "# Specified seed should make each training similar aka stable, because shuffle will always shuffle the same,\n",
    "# training should also start with same random weights and biases.\n",
    "np.random.seed(42)\n",
    "\n",
    "# Shuffle the combined array.\n",
    "np.random.shuffle(combined)\n",
    "\n",
    "# Separate the shuffled array back into X_train and y_train.\n",
    "shuffled_X_train = combined[:, :-1]\n",
    "shuffled_y_train = combined[:, -1]"
   ]
  },
  {
   "cell_type": "code",
   "execution_count": 5,
   "id": "71125da3",
   "metadata": {},
   "outputs": [
    {
     "data": {
      "image/png": "[encoded data removed]",
      "text/plain": [
       "<Figure size 640x480 with 1 Axes>"
      ]
     },
     "metadata": {},
     "output_type": "display_data"
    }
   ],
   "source": [
    "# Plot all the data.\n",
    "\n",
    "class0 = shuffled_X_train[shuffled_y_train == 0]\n",
    "class1 = shuffled_X_train[shuffled_y_train == 1]\n",
    "class2 = shuffled_X_train[shuffled_y_train == 2]\n",
    "class3 = shuffled_X_train[shuffled_y_train == 3]\n",
    "\n",
    "plt.scatter(class0[:, 0], class0[:, 1], c='b', marker='o')\n",
    "plt.scatter(class1[:, 0], class1[:, 1], c='r', marker='o')\n",
    "plt.scatter(class2[:, 0], class2[:, 1], c='y', marker='o')\n",
    "plt.scatter(class3[:, 0], class3[:, 1], c='g', marker='o')\n",
    "\n",
    "plt.xlabel('x0')\n",
    "plt.ylabel('x1')\n",
    "\n",
    "plt.show()"
   ]
  },
  {
   "cell_type": "code",
   "execution_count": 6,
   "id": "03b9a222",
   "metadata": {},
   "outputs": [
    {
     "name": "stdout",
     "output_type": "stream",
     "text": [
      "Size of X_train_split: 43\n",
      "Size of X_val_split: 14\n",
      "Size of X_test_split: 16\n",
      "Size of y_train_split: 43\n",
      "Size of y_val_split: 14\n",
      "Size of y_test_split: 16\n"
     ]
    }
   ],
   "source": [
    "# Split the shuffled dataset into three sets with a 60/20/20 ratio.\n",
    "train_size = int(0.6 * len(shuffled_X_train))\n",
    "val_size = int(0.2 * len(shuffled_X_train))\n",
    "\n",
    "X_train_split, X_val_split, X_test_split = np.split(shuffled_X_train, [train_size, train_size+val_size])\n",
    "y_train_split, y_val_split, y_test_split = np.split(shuffled_y_train, [train_size, train_size+val_size])\n",
    "\n",
    "scaler = StandardScaler()\n",
    "\n",
    "X_train_split_scaled = scaler.fit_transform(X_train_split)\n",
    "X_val_split_scaled = scaler.transform(X_val_split)\n",
    "X_test_split_scaled = scaler.transform(X_test_split)\n",
    "\n",
    "# Verify the sizes of the splits.\n",
    "print(\"Size of X_train_split:\", len(X_train_split))\n",
    "print(\"Size of X_val_split:\", len(X_val_split))\n",
    "print(\"Size of X_test_split:\", len(X_test_split))\n",
    "print(\"Size of y_train_split:\", len(y_train_split))\n",
    "print(\"Size of y_val_split:\", len(y_val_split))\n",
    "print(\"Size of y_test_split:\", len(y_test_split))"
   ]
  },
  {
   "cell_type": "code",
   "execution_count": 7,
   "id": "979e593d",
   "metadata": {},
   "outputs": [],
   "source": [
    "# Construct a bunch of neural networks to test all of them on the cross validation set.\n",
    "\n",
    "regularization_lamba = 0.08\n",
    "\n",
    "model0 = Sequential(\n",
    "    [\n",
    "        tf.keras.Input(shape=(2,)),\n",
    "        Dense(2, activation = 'relu', kernel_regularizer=regularizers.l2(regularization_lamba)),\n",
    "        Dense(4, activation = 'linear')\n",
    "    ]\n",
    ")\n",
    "\n",
    "model1 = Sequential(\n",
    "    [\n",
    "        tf.keras.Input(shape=(2,)),\n",
    "        Dense(2, activation = 'relu', kernel_regularizer=regularizers.l2(regularization_lamba)),\n",
    "        Dense(2, activation = 'relu', kernel_regularizer=regularizers.l2(regularization_lamba)),\n",
    "        Dense(4, activation = 'linear')\n",
    "    ]\n",
    ")\n",
    "\n",
    "model2 = Sequential(\n",
    "    [\n",
    "        tf.keras.Input(shape=(2,)),\n",
    "        Dense(2, activation = 'relu', kernel_regularizer=regularizers.l2(regularization_lamba)),\n",
    "        Dense(4, activation = 'relu', kernel_regularizer=regularizers.l2(regularization_lamba)),\n",
    "        Dense(4, activation = 'linear')\n",
    "    ]\n",
    ")\n",
    "\n",
    "model3 = Sequential(\n",
    "    [\n",
    "        tf.keras.Input(shape=(2,)),\n",
    "        Dense(2, activation = 'relu', kernel_regularizer=regularizers.l2(regularization_lamba)),\n",
    "        Dense(10, activation = 'relu', kernel_regularizer=regularizers.l2(regularization_lamba)),\n",
    "        Dense(4, activation = 'linear')\n",
    "    ]\n",
    ")\n",
    "\n",
    "model4 = Sequential(\n",
    "    [\n",
    "        tf.keras.Input(shape=(2,)),\n",
    "        Dense(2, activation = 'relu', kernel_regularizer=regularizers.l2(regularization_lamba)),\n",
    "        Dense(20, activation = 'relu', kernel_regularizer=regularizers.l2(regularization_lamba)),\n",
    "        Dense(20, activation = 'relu', kernel_regularizer=regularizers.l2(regularization_lamba)),\n",
    "        Dense(4, activation = 'linear')\n",
    "    ]\n",
    ")\n",
    "\n",
    "models = []\n",
    "models.append(model0)\n",
    "models.append(model1)\n",
    "models.append(model2)\n",
    "models.append(model3)\n",
    "models.append(model4)"
   ]
  },
  {
   "cell_type": "code",
   "execution_count": 8,
   "id": "b9629d63",
   "metadata": {},
   "outputs": [],
   "source": [
    "# Specify loss function for all the models.\n",
    "# For multiclasss classification we use 'SparseCategoricalCrossentropy'.\n",
    "# Instead of regression algorithm we specify 'Adam' algorithm which can modify learning late alpha on the go.\n",
    "\n",
    "for i in range(len(models)):\n",
    "    models[i].compile(\n",
    "    loss=tf.keras.losses.SparseCategoricalCrossentropy(from_logits=True),\n",
    "    optimizer=tf.keras.optimizers.Adam(0.1),\n",
    ")"
   ]
  },
  {
   "cell_type": "code",
   "execution_count": 9,
   "id": "8d7940e2",
   "metadata": {},
   "outputs": [
    {
     "name": "stdout",
     "output_type": "stream",
     "text": [
      "Training 0...\n",
      "Training 0 cost: 0.2454451620578766\n",
      "Training 0 cross cost: 0.346268892288208\n",
      "Training 1...\n",
      "Training 1 cost: 0.4412597715854645\n",
      "Training 1 cross cost: 0.45258936285972595\n",
      "Training 2...\n",
      "Training 2 cost: 0.4531395137310028\n",
      "Training 2 cross cost: 0.5787711143493652\n",
      "Training 3...\n",
      "Training 3 cost: 0.368373304605484\n",
      "Training 3 cross cost: 0.4866906702518463\n",
      "Training 4...\n",
      "WARNING:tensorflow:5 out of the last 13 calls to <function Model.make_test_function.<locals>.test_function at 0x00000235A2B62A60> triggered tf.function retracing. Tracing is expensive and the excessive number of tracings could be due to (1) creating @tf.function repeatedly in a loop, (2) passing tensors with different shapes, (3) passing Python objects instead of tensors. For (1), please define your @tf.function outside of the loop. For (2), @tf.function has reduce_retracing=True option that can avoid unnecessary retracing. For (3), please refer to https://www.tensorflow.org/guide/function#controlling_retracing and https://www.tensorflow.org/api_docs/python/tf/function for  more details.\n",
      "Training 4 cost: 0.5906182527542114\n",
      "Training 4 cross cost: 0.5627110004425049\n"
     ]
    }
   ],
   "source": [
    "# Train all models.\n",
    "\n",
    "cross_eval_losses = np.zeros(len(models))\n",
    "\n",
    "for i in range(len(models)):\n",
    "    print(f'Training {i}...')\n",
    "    \n",
    "    models[i].fit(\n",
    "    X_train_split_scaled, y_train_split,\n",
    "    epochs=800,\n",
    "    verbose=0\n",
    ")\n",
    "    \n",
    "    # Evaluate and print the training cost & cross evaluation cost..\n",
    "    train_loss = models[i].evaluate(X_train_split_scaled, y_train_split, verbose=0)\n",
    "    cross_eval_losses[i] = models[i].evaluate(X_val_split_scaled, y_val_split, verbose=0)\n",
    "    print(f'Training {i} cost: {train_loss}')\n",
    "    print(f'Training {i} cross cost: {cross_eval_losses[i]}')"
   ]
  },
  {
   "cell_type": "code",
   "execution_count": 10,
   "id": "99284e5f",
   "metadata": {},
   "outputs": [
    {
     "name": "stdout",
     "output_type": "stream",
     "text": [
      "Test cost for model 0: 0.13826122879981995\n"
     ]
    }
   ],
   "source": [
    "# Pick the best model from cross evaluation and test it on test data.\n",
    "cross_eval_best_index = np.argmin(cross_eval_losses)\n",
    "\n",
    "train_test_loss = models[cross_eval_best_index].evaluate(X_test_split_scaled, y_test_split, verbose=0)\n",
    "print(f'Test cost for model {cross_eval_best_index}: {train_test_loss}')"
   ]
  },
  {
   "cell_type": "code",
   "execution_count": 11,
   "id": "57d51e49",
   "metadata": {},
   "outputs": [
    {
     "name": "stdout",
     "output_type": "stream",
     "text": [
      "450/450 [==============================] - 0s 304us/step\n"
     ]
    },
    {
     "data": {
      "image/png": "[encoded data removed]",
      "text/plain": [
       "<Figure size 640x480 with 1 Axes>"
      ]
     },
     "metadata": {},
     "output_type": "display_data"
    }
   ],
   "source": [
    "# Plot decision boundaries.\n",
    "\n",
    "# Create meshgrid.\n",
    "\n",
    "x_min, x_max = X_train[:, 0].min() - 1, X_train[:, 0].max() + 1\n",
    "y_min, y_max = X_train[:, 1].min() - 1, X_train[:, 1].max() + 1\n",
    "xx, yy = np.meshgrid(np.arange(x_min, x_max, 0.1), np.arange(y_min, y_max, 0.1))\n",
    "\n",
    "# Predict the meshgrid.\n",
    "\n",
    "grid_points = np.c_[xx.ravel(), yy.ravel()]\n",
    "\n",
    "grid_points_scaled = scaler.transform(grid_points)\n",
    "\n",
    "grid_predictions = models[cross_eval_best_index].predict(grid_points_scaled)\n",
    "grid_predictions_mostProbableClass = np.argmax(grid_predictions, axis=1)\n",
    "\n",
    "# Reshape to fit the meshgrid.\n",
    "\n",
    "grid_predictions = grid_predictions_mostProbableClass.reshape(xx.shape)\n",
    "\n",
    "# Contour plot.\n",
    "\n",
    "plt.contourf(xx, yy, grid_predictions, alpha=0.8)\n",
    "\n",
    "# Scatter plot.\n",
    "\n",
    "unique_classes = np.unique(y_train)\n",
    "for i, cls in enumerate(unique_classes):\n",
    "    plt.scatter(X_train[y_train == cls, 0], X_train[y_train == cls, 1], label=f'Class {cls}', edgecolors='black')\n",
    "    \n",
    "# Add lables.\n",
    "    \n",
    "plt.xlabel('Feature 1')\n",
    "plt.ylabel('Feature 2')\n",
    "plt.legend()\n",
    "\n",
    "# Draw.\n",
    "\n",
    "plt.show()"
   ]
  },
  {
   "cell_type": "code",
   "execution_count": 12,
   "id": "fe975031",
   "metadata": {},
   "outputs": [],
   "source": [
    "# Decision boundaries seem pretty good each time I train my models."
   ]
  }
 ],
 "metadata": {
  "kernelspec": {
   "display_name": "Python 3 (ipykernel)",
   "language": "python",
   "name": "python3"
  },
  "language_info": {
   "codemirror_mode": {
    "name": "ipython",
    "version": 3
   },
   "file_extension": ".py",
   "mimetype": "text/x-python",
   "name": "python",
   "nbconvert_exporter": "python",
   "pygments_lexer": "ipython3",
   "version": "3.9.13"
  }
 },
 "nbformat": 4,
 "nbformat_minor": 5
}
